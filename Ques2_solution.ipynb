{
 "cells": [
  {
   "cell_type": "code",
   "execution_count": 1,
   "metadata": {},
   "outputs": [],
   "source": [
    "import cv2\n",
    "import numpy as np\n",
    "from PIL import Image\n",
    "import PIL.Image\n",
    "\n",
    "import pytesseract\n",
    "import re\n",
    "\n",
    "\n",
    "from pytesseract import image_to_string\n"
   ]
  },
  {
   "cell_type": "code",
   "execution_count": 2,
   "metadata": {},
   "outputs": [
    {
     "data": {
      "text/plain": [
       "True"
      ]
     },
     "execution_count": 2,
     "metadata": {},
     "output_type": "execute_result"
    }
   ],
   "source": [
    "image = cv2.imread('empty2.jpg')\n",
    "h = image.shape[0]\n",
    "w = image.shape[1]\n",
    "crop_img = image[h//2:h, 0:w]\n",
    "image = cv2.cvtColor(crop_img, cv2.COLOR_BGR2GRAY)\n",
    "retval,mask_img = cv2.threshold(image, 127, 255, cv2.THRESH_BINARY|cv2.THRESH_OTSU)\n",
    "cv2.imwrite('img2.png',mask_img)"
   ]
  },
  {
   "cell_type": "code",
   "execution_count": 3,
   "metadata": {},
   "outputs": [
    {
     "data": {
      "text/plain": [
       "'SOAP DISPNSR TTHBRSH HLDR THR BRUSHED STAINLESS THR BRUSHED STAINLESS UL LL TARNNMBVE LLUUIIUI EIU EAI'"
      ]
     },
     "execution_count": 3,
     "metadata": {},
     "output_type": "execute_result"
    }
   ],
   "source": [
    "string = image_to_string(Image.open('img2.png'))\n",
    "List = re.sub('[^A-Z]+', ' ', string).split()\n",
    "Item = [elem for elem in List if len(elem) >= 2]\n",
    "item = \" \".join(Item)\n",
    "item"
   ]
  },
  {
   "cell_type": "code",
   "execution_count": 4,
   "metadata": {},
   "outputs": [
    {
     "data": {
      "text/plain": [
       "(221, b'2.0.0 closing connection p11sm24352631pgb.1 - gsmtp')"
      ]
     },
     "execution_count": 4,
     "metadata": {},
     "output_type": "execute_result"
    }
   ],
   "source": [
    "import smtplib \n",
    "  \n",
    "# creates SMTP session \n",
    "s = smtplib.SMTP('smtp.gmail.com', 587) \n",
    "  \n",
    "# start TLS for security \n",
    "s.starttls() \n",
    "  \n",
    "# Authentication \n",
    "sender_email = \"divyaanshdevarriya@gmail.com\"\n",
    "password = \"password\"\n",
    "s.login(sender_email, password) \n",
    "  \n",
    "# message to be sent \n",
    "message = \"\"\"\\\n",
    "Subject: Empty shelf items\n",
    "\n",
    "Following item is missing from the shelf:\\n\n",
    "{}\"\"\".format(item)\n",
    "  \n",
    "# sending the mail \n",
    "receiver_email = \"divyaanshdevarriya@gmail.com\"\n",
    "s.sendmail(sender_email, receiver_email, message) \n",
    "  \n",
    "# terminating the session \n",
    "s.quit() "
   ]
  }
 ],
 "metadata": {
  "language_info": {
   "codemirror_mode": {
    "name": "ipython",
    "version": 3
   },
   "file_extension": ".py",
   "mimetype": "text/x-python",
   "name": "python",
   "nbconvert_exporter": "python",
   "pygments_lexer": "ipython3",
   "version": "3.6.8"
  }
 },
 "nbformat": 4,
 "nbformat_minor": 2
}
